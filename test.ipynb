{
 "cells": [
  {
   "cell_type": "code",
   "execution_count": 2,
   "metadata": {},
   "outputs": [
    {
     "name": "stdout",
     "output_type": "stream",
     "text": [
      "No overlapping rectangles.\n"
     ]
    }
   ],
   "source": [
    "def check_overlap(rect1, rect2):\n",
    "    x1, y1, x2, y2 = rect1\n",
    "    x3, y3, x4, y4 = rect2\n",
    "\n",
    "    # Check if the rectangles overlap\n",
    "    if x1 < x4 and x2 > x3 and y1 < y4 and y2 > y3:\n",
    "        return True\n",
    "    return False\n",
    "\n",
    "def find_overlapping_rectangles(rectangles):\n",
    "    overlaps = []\n",
    "    \n",
    "    for i in range(len(rectangles)):\n",
    "        for j in range(i + 1, len(rectangles)):\n",
    "            if check_overlap(rectangles[i], rectangles[j]):\n",
    "                overlaps.append((rectangles[i], rectangles[j]))  # Store indices of overlapping rectangles\n",
    "    \n",
    "    return overlaps\n",
    "\n",
    "def read_rectangles_from_file(file_path):\n",
    "    rectangles = []\n",
    "    \n",
    "    with open(file_path, 'r') as file:\n",
    "        for line in file:\n",
    "            try:\n",
    "                # Parsing each line as x1, y1, x2, y2\n",
    "                x1, y1, x2, y2 = map(int, line.strip().split())\n",
    "                rectangles.append((x1, y1, x2, y2))\n",
    "            except ValueError:\n",
    "                print(f\"Skipping invalid line: {line.strip()}\")\n",
    "    \n",
    "    return rectangles\n",
    "\n",
    "# File path for the data\n",
    "file_path = 'results/large/large_set5/group_1.txt'\n",
    "\n",
    "# Read rectangles from file\n",
    "rectangles = read_rectangles_from_file(file_path)\n",
    "\n",
    "# Find and print overlapping rectangles\n",
    "overlaps = find_overlapping_rectangles(rectangles)\n",
    "if overlaps:\n",
    "    print(\"Overlapping rectangles found:\")\n",
    "    for overlap in overlaps:\n",
    "        print(f\"Rectangle {overlap[0]} overlaps with Rectangle {overlap[1]}\")\n",
    "else:\n",
    "    print(\"No overlapping rectangles.\")\n"
   ]
  },
  {
   "cell_type": "code",
   "execution_count": null,
   "metadata": {},
   "outputs": [],
   "source": []
  }
 ],
 "metadata": {
  "kernelspec": {
   "display_name": "Python 3",
   "language": "python",
   "name": "python3"
  },
  "language_info": {
   "codemirror_mode": {
    "name": "ipython",
    "version": 3
   },
   "file_extension": ".py",
   "mimetype": "text/x-python",
   "name": "python",
   "nbconvert_exporter": "python",
   "pygments_lexer": "ipython3",
   "version": "3.8.10"
  }
 },
 "nbformat": 4,
 "nbformat_minor": 2
}
